{
 "cells": [
  {
   "cell_type": "code",
   "execution_count": 1,
   "metadata": {},
   "outputs": [
    {
     "name": "stdout",
     "output_type": "stream",
     "text": [
      "Requirement already satisfied: pygbif in /usr/local/python/3.12.1/lib/python3.12/site-packages (0.6.4)\n",
      "Requirement already satisfied: requests>2.7 in /home/codespace/.local/lib/python3.12/site-packages (from pygbif) (2.32.3)\n",
      "Requirement already satisfied: requests-cache in /usr/local/python/3.12.1/lib/python3.12/site-packages (from pygbif) (1.2.1)\n",
      "Requirement already satisfied: geojson-rewind in /usr/local/python/3.12.1/lib/python3.12/site-packages (from pygbif) (1.1.0)\n",
      "Requirement already satisfied: geomet in /usr/local/python/3.12.1/lib/python3.12/site-packages (from pygbif) (1.1.0)\n",
      "Requirement already satisfied: appdirs>=1.4.3 in /usr/local/python/3.12.1/lib/python3.12/site-packages (from pygbif) (1.4.4)\n",
      "Requirement already satisfied: matplotlib in /home/codespace/.local/lib/python3.12/site-packages (from pygbif) (3.9.2)\n",
      "Requirement already satisfied: charset-normalizer<4,>=2 in /home/codespace/.local/lib/python3.12/site-packages (from requests>2.7->pygbif) (3.3.2)\n",
      "Requirement already satisfied: idna<4,>=2.5 in /home/codespace/.local/lib/python3.12/site-packages (from requests>2.7->pygbif) (3.10)\n",
      "Requirement already satisfied: urllib3<3,>=1.21.1 in /home/codespace/.local/lib/python3.12/site-packages (from requests>2.7->pygbif) (2.2.3)\n",
      "Requirement already satisfied: certifi>=2017.4.17 in /home/codespace/.local/lib/python3.12/site-packages (from requests>2.7->pygbif) (2024.8.30)\n",
      "Requirement already satisfied: click in /usr/local/python/3.12.1/lib/python3.12/site-packages (from geomet->pygbif) (8.1.7)\n",
      "Requirement already satisfied: contourpy>=1.0.1 in /home/codespace/.local/lib/python3.12/site-packages (from matplotlib->pygbif) (1.3.0)\n",
      "Requirement already satisfied: cycler>=0.10 in /home/codespace/.local/lib/python3.12/site-packages (from matplotlib->pygbif) (0.12.1)\n",
      "Requirement already satisfied: fonttools>=4.22.0 in /home/codespace/.local/lib/python3.12/site-packages (from matplotlib->pygbif) (4.54.1)\n",
      "Requirement already satisfied: kiwisolver>=1.3.1 in /home/codespace/.local/lib/python3.12/site-packages (from matplotlib->pygbif) (1.4.7)\n",
      "Requirement already satisfied: numpy>=1.23 in /home/codespace/.local/lib/python3.12/site-packages (from matplotlib->pygbif) (2.1.1)\n",
      "Requirement already satisfied: packaging>=20.0 in /home/codespace/.local/lib/python3.12/site-packages (from matplotlib->pygbif) (24.1)\n",
      "Requirement already satisfied: pillow>=8 in /home/codespace/.local/lib/python3.12/site-packages (from matplotlib->pygbif) (10.4.0)\n",
      "Requirement already satisfied: pyparsing>=2.3.1 in /home/codespace/.local/lib/python3.12/site-packages (from matplotlib->pygbif) (3.1.4)\n",
      "Requirement already satisfied: python-dateutil>=2.7 in /home/codespace/.local/lib/python3.12/site-packages (from matplotlib->pygbif) (2.9.0.post0)\n",
      "Requirement already satisfied: attrs>=21.2 in /home/codespace/.local/lib/python3.12/site-packages (from requests-cache->pygbif) (24.2.0)\n",
      "Requirement already satisfied: cattrs>=22.2 in /usr/local/python/3.12.1/lib/python3.12/site-packages (from requests-cache->pygbif) (24.1.2)\n",
      "Requirement already satisfied: platformdirs>=2.5 in /home/codespace/.local/lib/python3.12/site-packages (from requests-cache->pygbif) (4.3.6)\n",
      "Requirement already satisfied: url-normalize>=1.4 in /usr/local/python/3.12.1/lib/python3.12/site-packages (from requests-cache->pygbif) (1.4.3)\n",
      "Requirement already satisfied: six>=1.5 in /home/codespace/.local/lib/python3.12/site-packages (from python-dateutil>=2.7->matplotlib->pygbif) (1.16.0)\n"
     ]
    }
   ],
   "source": [
    "%%bash\n",
    "pip install pygbif"
   ]
  },
  {
   "cell_type": "code",
   "execution_count": 2,
   "metadata": {},
   "outputs": [],
   "source": [
    "import os\n",
    "import pathlib\n",
    "import time\n",
    "import zipfile\n",
    "\n",
    "from getpass import getpass\n",
    "from glob import glob\n",
    "\n",
    "import geopandas as gpd\n",
    "import pandas as pd\n",
    "import pygbif.occurrences as occ\n",
    "import pygbif.species as species"
   ]
  },
  {
   "cell_type": "code",
   "execution_count": 3,
   "metadata": {},
   "outputs": [],
   "source": [
    "# Create data directory in the home folder\n",
    "data_dir_bobcat = os.path.join(\n",
    "    # Home directory\n",
    "    pathlib.Path.home(),\n",
    "    # Earth analytics data directory\n",
    "    'earth-analytics',\n",
    "    'data',\n",
    "    # Project directory\n",
    "    'species_distribution_bobcat',\n",
    ")\n",
    "os.makedirs(data_dir_bobcat, exist_ok=True)\n",
    "\n",
    "# Define the directory name for GBIF data\n",
    "gbif_dir_bobcat = os.path.join(data_dir_bobcat, 'gbif_bobcat')"
   ]
  },
  {
   "cell_type": "code",
   "execution_count": 4,
   "metadata": {},
   "outputs": [
    {
     "data": {
      "text/plain": [
       "'/home/codespace/earth-analytics/data/species_distribution_bobcat'"
      ]
     },
     "execution_count": 4,
     "metadata": {},
     "output_type": "execute_result"
    }
   ],
   "source": [
    "data_dir_bobcat"
   ]
  },
  {
   "cell_type": "code",
   "execution_count": 5,
   "metadata": {},
   "outputs": [],
   "source": [
    "reset_credentials = False\n",
    "# GBIF needs a username, password, and email\n",
    "credentials = dict(\n",
    "    GBIF_USER=(input, 'GBIF username:'),\n",
    "    GBIF_PWD=(getpass, 'GBIF password'),\n",
    "    GBIF_EMAIL=(input, 'GBIF email')\n",
    ")\n",
    "for env_variable, (prompt_func, prompt_text) in credentials.items():\n",
    "    # Delete credential from environment if requested\n",
    "    if reset_credentials and (env_variable in os.environ):\n",
    "        os.environ.pop(env_variable)\n",
    "    # Ask for credential and save to environment\n",
    "    if not env_variable in os.environ:\n",
    "        os.environ[env_variable] = prompt_func(prompt_text)"
   ]
  },
  {
   "cell_type": "code",
   "execution_count": 7,
   "metadata": {},
   "outputs": [
    {
     "data": {
      "text/plain": [
       "'brglea'"
      ]
     },
     "execution_count": 7,
     "metadata": {},
     "output_type": "execute_result"
    }
   ],
   "source": [
    "os.environ ['GBIF_USER']"
   ]
  },
  {
   "cell_type": "code",
   "execution_count": 8,
   "metadata": {},
   "outputs": [
    {
     "name": "stdout",
     "output_type": "stream",
     "text": [
      "brglea\n"
     ]
    }
   ],
   "source": [
    "!echo $GBIF_USER"
   ]
  },
  {
   "cell_type": "code",
   "execution_count": 9,
   "metadata": {},
   "outputs": [
    {
     "data": {
      "text/plain": [
       "True"
      ]
     },
     "execution_count": 9,
     "metadata": {},
     "output_type": "execute_result"
    }
   ],
   "source": [
    "'GBIF_PWD' in os.environ"
   ]
  },
  {
   "cell_type": "code",
   "execution_count": 10,
   "metadata": {},
   "outputs": [
    {
     "data": {
      "text/plain": [
       "('Lynx rufus', 2435246)"
      ]
     },
     "execution_count": 10,
     "metadata": {},
     "output_type": "execute_result"
    }
   ],
   "source": [
    "# Query species\n",
    "species_info = species.name_lookup('lynx rufus', rank='SPECIES')\n",
    "\n",
    "# Get the first result\n",
    "first_result = species_info['results'][0]\n",
    "\n",
    "# Get the species key (nubKey)\n",
    "species_key = first_result['nubKey']\n",
    "\n",
    "# Check the result\n",
    "first_result['species'], species_key"
   ]
  },
  {
   "cell_type": "code",
   "execution_count": 11,
   "metadata": {},
   "outputs": [
    {
     "name": "stderr",
     "output_type": "stream",
     "text": [
      "INFO:Your download key is 0014118-241007104925546\n",
      "INFO:Download file size: 247369 bytes\n",
      "INFO:On disk at /home/codespace/earth-analytics/data/species_distribution_bobcat/0014118-241007104925546.zip\n"
     ]
    }
   ],
   "source": [
    "# Only download once\n",
    "gbif_pattern = os.path.join(gbif_dir_bobcat, '*.csv')\n",
    "if not glob(gbif_pattern):\n",
    "    # Only submit one request\n",
    "    if not 'GBIF_DOWNLOAD_KEY' in os.environ:\n",
    "        # Submit query to GBIF\n",
    "        gbif_query = occ.download([\n",
    "            \"speciesKey = 2435246\",\n",
    "            \"hasCoordinate = True\",\n",
    "            \"year = 2023\",\n",
    "        ])\n",
    "        os.environ['GBIF_DOWNLOAD_KEY'] = gbif_query[0]\n",
    "\n",
    "    # Wait for the download to build\n",
    "    download_key = os.environ['GBIF_DOWNLOAD_KEY']\n",
    "    wait = occ.download_meta(download_key)['status']\n",
    "    while not wait=='SUCCEEDED':\n",
    "        wait = occ.download_meta(download_key)['status']\n",
    "        time.sleep(5)\n",
    "\n",
    "    # Download GBIF data\n",
    "    download_info = occ.download_get(\n",
    "        os.environ['GBIF_DOWNLOAD_KEY'], \n",
    "        path=data_dir_bobcat)\n",
    "\n",
    "    # Unzip GBIF data\n",
    "    with zipfile.ZipFile(download_info['path']) as download_zip:\n",
    "        download_zip.extractall(path=gbif_dir_bobcat)\n",
    "\n",
    "# Find the extracted .csv file path (take the first result)\n",
    "gbif_path = glob(gbif_pattern)[0]"
   ]
  },
  {
   "cell_type": "code",
   "execution_count": 12,
   "metadata": {},
   "outputs": [
    {
     "data": {
      "text/plain": [
       "'/home/codespace/earth-analytics/data/species_distribution_bobcat/gbif_bobcat/0014118-241007104925546.csv'"
      ]
     },
     "execution_count": 12,
     "metadata": {},
     "output_type": "execute_result"
    }
   ],
   "source": [
    "gbif_path"
   ]
  },
  {
   "cell_type": "code",
   "execution_count": 13,
   "metadata": {},
   "outputs": [
    {
     "data": {
      "text/plain": [
       "('0014118-241007104925546',\n",
       " {'creator': 'brglea',\n",
       "  'notification_address': ['briglea@gmail.com'],\n",
       "  'sendNotification': True,\n",
       "  'predicate': {'type': 'and',\n",
       "   'predicates': [{'type': 'equals', 'key': 'SPECIES_KEY', 'value': '2435246'},\n",
       "    {'type': 'equals', 'key': 'HAS_COORDINATE', 'value': 'True'},\n",
       "    {'type': 'equals', 'key': 'YEAR', 'value': '2023'}]},\n",
       "  'format': 'SIMPLE_CSV'})"
      ]
     },
     "execution_count": 13,
     "metadata": {},
     "output_type": "execute_result"
    }
   ],
   "source": [
    "gbif_query"
   ]
  },
  {
   "cell_type": "code",
   "execution_count": 14,
   "metadata": {},
   "outputs": [
    {
     "name": "stdout",
     "output_type": "stream",
     "text": [
      "gbifID\tdatasetKey\toccurrenceID\tkingdom\tphylum\tclass\torder\tfamily\tgenus\tspecies\tinfraspecificEpithet\ttaxonRank\tscientificName\tverbatimScientificName\tverbatimScientificNameAuthorship\tcountryCode\tlocality\tstateProvince\toccurrenceStatus\tindividualCount\tpublishingOrgKey\tdecimalLatitude\tdecimalLongitude\tcoordinateUncertaintyInMeters\tcoordinatePrecision\televation\televationAccuracy\tdepth\tdepthAccuracy\teventDate\tday\tmonth\tyear\ttaxonKey\tspeciesKey\tbasisOfRecord\tinstitutionCode\tcollectionCode\tcatalogNumber\trecordNumber\tidentifiedBy\tdateIdentified\tlicense\trightsHolder\trecordedBy\ttypeStatus\testablishmentMeans\tlastInterpreted\tmediaType\tissue\n",
      "4953158569\t50c9509d-22c7-4a22-a47d-8c48425ef4a7\thttps://www.inaturalist.org/observations/151699352\tAnimalia\tChordata\tMammalia\tCarnivora\tFelidae\tLynx\tLynx rufus\t\tSPECIES\tLynx rufus (Schreber, 1777)\tLynx rufus\t\tUS\t\tCalifornia\tPRESENT\t\t28eb1a3f-1c15-4a95-931a-4af90ecb574d\t34.205588\t-118.36292\t28846.0\t\t\t\t\t\t2023-03-16T03:21\t16\t3\t2023\t2435246\t2435246\tHUMAN_OBSERVATION\tiNaturalist\tObservations\t151699352\t\tDevon\t2023-03-20T04:33:39\tCC_BY_NC_4_0\tDevon\tDevon\t\t\t2024-10-12T11:10:13.765Z\tStillImage\tCOORDINATE_ROUNDED;CONTINENT_DERIVED_FROM_COORDINATES;TAXON_MATCH_TAXON_ID_IGNORED\n"
     ]
    }
   ],
   "source": [
    "!head -n 2 $gbif_path "
   ]
  },
  {
   "cell_type": "code",
   "execution_count": 15,
   "metadata": {},
   "outputs": [
    {
     "name": "stdout",
     "output_type": "stream",
     "text": [
      "<class 'pandas.core.frame.DataFrame'>\n",
      "Index: 3657 entries, 4953158569 to 4011547228\n",
      "Data columns (total 49 columns):\n",
      " #   Column                            Non-Null Count  Dtype  \n",
      "---  ------                            --------------  -----  \n",
      " 0   datasetKey                        3657 non-null   object \n",
      " 1   occurrenceID                      3657 non-null   object \n",
      " 2   kingdom                           3657 non-null   object \n",
      " 3   phylum                            3657 non-null   object \n",
      " 4   class                             3657 non-null   object \n",
      " 5   order                             3657 non-null   object \n",
      " 6   family                            3657 non-null   object \n",
      " 7   genus                             3657 non-null   object \n",
      " 8   species                           3657 non-null   object \n",
      " 9   infraspecificEpithet              145 non-null    object \n",
      " 10  taxonRank                         3657 non-null   object \n",
      " 11  scientificName                    3657 non-null   object \n",
      " 12  verbatimScientificName            3657 non-null   object \n",
      " 13  verbatimScientificNameAuthorship  1 non-null      object \n",
      " 14  countryCode                       3657 non-null   object \n",
      " 15  locality                          15 non-null     object \n",
      " 16  stateProvince                     3657 non-null   object \n",
      " 17  occurrenceStatus                  3657 non-null   object \n",
      " 18  individualCount                   10 non-null     float64\n",
      " 19  publishingOrgKey                  3657 non-null   object \n",
      " 20  decimalLatitude                   3657 non-null   float64\n",
      " 21  decimalLongitude                  3657 non-null   float64\n",
      " 22  coordinateUncertaintyInMeters     3414 non-null   float64\n",
      " 23  coordinatePrecision               0 non-null      float64\n",
      " 24  elevation                         3 non-null      float64\n",
      " 25  elevationAccuracy                 3 non-null      float64\n",
      " 26  depth                             0 non-null      float64\n",
      " 27  depthAccuracy                     0 non-null      float64\n",
      " 28  eventDate                         3657 non-null   object \n",
      " 29  day                               3657 non-null   int64  \n",
      " 30  month                             3657 non-null   int64  \n",
      " 31  year                              3657 non-null   int64  \n",
      " 32  taxonKey                          3657 non-null   int64  \n",
      " 33  speciesKey                        3657 non-null   int64  \n",
      " 34  basisOfRecord                     3657 non-null   object \n",
      " 35  institutionCode                   3648 non-null   object \n",
      " 36  collectionCode                    3648 non-null   object \n",
      " 37  catalogNumber                     3648 non-null   object \n",
      " 38  recordNumber                      0 non-null      float64\n",
      " 39  identifiedBy                      3626 non-null   object \n",
      " 40  dateIdentified                    3625 non-null   object \n",
      " 41  license                           3657 non-null   object \n",
      " 42  rightsHolder                      3643 non-null   object \n",
      " 43  recordedBy                        3648 non-null   object \n",
      " 44  typeStatus                        0 non-null      float64\n",
      " 45  establishmentMeans                0 non-null      float64\n",
      " 46  lastInterpreted                   3657 non-null   object \n",
      " 47  mediaType                         3578 non-null   object \n",
      " 48  issue                             3657 non-null   object \n",
      "dtypes: float64(12), int64(5), object(32)\n",
      "memory usage: 1.4+ MB\n"
     ]
    }
   ],
   "source": [
    "# Load the GBIF data\n",
    "gbif_df = pd.read_csv(\n",
    "    gbif_path, \n",
    "    delimiter='\\t',\n",
    "    index_col='gbifID',\n",
    "    #usecols=[]\n",
    ")\n",
    "gbif_df.info()"
   ]
  },
  {
   "cell_type": "code",
   "execution_count": 17,
   "metadata": {},
   "outputs": [
    {
     "data": {
      "text/html": [
       "<div>\n",
       "<style scoped>\n",
       "    .dataframe tbody tr th:only-of-type {\n",
       "        vertical-align: middle;\n",
       "    }\n",
       "\n",
       "    .dataframe tbody tr th {\n",
       "        vertical-align: top;\n",
       "    }\n",
       "\n",
       "    .dataframe thead th {\n",
       "        text-align: right;\n",
       "    }\n",
       "</style>\n",
       "<table border=\"1\" class=\"dataframe\">\n",
       "  <thead>\n",
       "    <tr style=\"text-align: right;\">\n",
       "      <th></th>\n",
       "      <th>decimalLatitude</th>\n",
       "      <th>decimalLongitude</th>\n",
       "      <th>month</th>\n",
       "    </tr>\n",
       "    <tr>\n",
       "      <th>gbifID</th>\n",
       "      <th></th>\n",
       "      <th></th>\n",
       "      <th></th>\n",
       "    </tr>\n",
       "  </thead>\n",
       "  <tbody>\n",
       "    <tr>\n",
       "      <th>4953158569</th>\n",
       "      <td>34.205588</td>\n",
       "      <td>-118.362920</td>\n",
       "      <td>3</td>\n",
       "    </tr>\n",
       "    <tr>\n",
       "      <th>4953055247</th>\n",
       "      <td>36.537634</td>\n",
       "      <td>-121.890603</td>\n",
       "      <td>10</td>\n",
       "    </tr>\n",
       "    <tr>\n",
       "      <th>4953008628</th>\n",
       "      <td>44.122360</td>\n",
       "      <td>-119.848505</td>\n",
       "      <td>11</td>\n",
       "    </tr>\n",
       "    <tr>\n",
       "      <th>4952902566</th>\n",
       "      <td>34.270494</td>\n",
       "      <td>-118.320036</td>\n",
       "      <td>9</td>\n",
       "    </tr>\n",
       "    <tr>\n",
       "      <th>4952869276</th>\n",
       "      <td>41.546645</td>\n",
       "      <td>-72.608720</td>\n",
       "      <td>1</td>\n",
       "    </tr>\n",
       "  </tbody>\n",
       "</table>\n",
       "</div>"
      ],
      "text/plain": [
       "            decimalLatitude  decimalLongitude  month\n",
       "gbifID                                              \n",
       "4953158569        34.205588       -118.362920      3\n",
       "4953055247        36.537634       -121.890603     10\n",
       "4953008628        44.122360       -119.848505     11\n",
       "4952902566        34.270494       -118.320036      9\n",
       "4952869276        41.546645        -72.608720      1"
      ]
     },
     "execution_count": 17,
     "metadata": {},
     "output_type": "execute_result"
    }
   ],
   "source": [
    "# Load the GBIF data\n",
    "gbif_df = pd.read_csv(\n",
    "    gbif_path, \n",
    "    delimiter='\\t',\n",
    "    index_col='gbifID',\n",
    "    usecols=['gbifID', 'month', 'decimalLatitude', 'decimalLongitude']\n",
    ")\n",
    "gbif_df.head()"
   ]
  }
 ],
 "metadata": {
  "kernelspec": {
   "display_name": "Python 3",
   "language": "python",
   "name": "python3"
  },
  "language_info": {
   "codemirror_mode": {
    "name": "ipython",
    "version": 3
   },
   "file_extension": ".py",
   "mimetype": "text/x-python",
   "name": "python",
   "nbconvert_exporter": "python",
   "pygments_lexer": "ipython3",
   "version": "3.12.1"
  }
 },
 "nbformat": 4,
 "nbformat_minor": 2
}
